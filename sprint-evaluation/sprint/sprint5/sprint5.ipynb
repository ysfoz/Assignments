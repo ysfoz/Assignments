{
 "metadata": {
  "language_info": {
   "codemirror_mode": {
    "name": "ipython",
    "version": 3
   },
   "file_extension": ".py",
   "mimetype": "text/x-python",
   "name": "python",
   "nbconvert_exporter": "python",
   "pygments_lexer": "ipython3",
   "version": "3.7.6-final"
  },
  "orig_nbformat": 2,
  "kernelspec": {
   "name": "python3",
   "display_name": "Python 3"
  }
 },
 "nbformat": 4,
 "nbformat_minor": 2,
 "cells": [
  {
   "cell_type": "code",
   "execution_count": 1,
   "metadata": {},
   "outputs": [],
   "source": [
    "def counter (a,b):\n",
    "    count = 0\n",
    "    for i in a:\n",
    "        if i == b:\n",
    "            count +=1\n",
    "    print(count)       \n",
    "    return count        \n"
   ]
  },
  {
   "cell_type": "code",
   "execution_count": 2,
   "metadata": {},
   "outputs": [
    {
     "output_type": "stream",
     "name": "stdout",
     "text": [
      "2\n"
     ]
    },
    {
     "output_type": "execute_result",
     "data": {
      "text/plain": [
       "2"
      ]
     },
     "metadata": {},
     "execution_count": 2
    }
   ],
   "source": [
    "counter('clarusway','a')"
   ]
  },
  {
   "source": [
    "Mercury: orbital period 0.2408467 Earth years\n",
    "Venus: orbital period 0.61519726 Earth years\n",
    "Earth: orbital period 1.0 Earth years, 365.25 Earth days, or 31,557,600 seconds\n",
    "Mars: orbital period 1.8808158 Earth years\n",
    "Jupiter: orbital period 11.862615 Earth years\n",
    "Saturn: orbital period 29.447498 Earth years\n",
    "Uranus: orbital period 84.016846 Earth years\n",
    "Neptune: orbital period 164.79132 Earth years\n",
    "So if you were told someone were 1,000,000,000 seconds old, you should be able to say that\n",
    "they're 31.69 Earth-years old.\n",
    "Learning Outcomes\n"
   ],
   "cell_type": "markdown",
   "metadata": {}
  },
  {
   "cell_type": "code",
   "execution_count": 61,
   "metadata": {},
   "outputs": [],
   "source": [
    "planets ={'Mercury':0.2408467 ,\n",
    "'Venus':0.61519726 ,\n",
    "'Earth':31557600 ,\n",
    "'Mars':1.8808158 ,\n",
    "'Jupiter':11.862615 ,\n",
    "'Saturn': 29.447498, \n",
    "'Uranus':84.016846, \n",
    "'Neptune': 164.79132 }\n",
    "# So if you were told someone were 1,000,000,000 seconds old, you should be able to say that\n",
    "# they're 31.69 Earth-years old.\n",
    "# Learning Outcomes"
   ]
  },
  {
   "cell_type": "code",
   "execution_count": 66,
   "metadata": {},
   "outputs": [],
   "source": [
    "def oldCalculator(planet,value):\n",
    "    old = 0\n",
    "    for i,j in planets.items():\n",
    "        if planet == 'Earth':\n",
    "            old = value / 31557600\n",
    "        else:\n",
    "            if  planet == i:\n",
    "                old = value / (j * 31557600)\n",
    "                return old\n",
    "            else: print('invalid Planet')\n",
    "\n",
    "        \n",
    "\n"
   ]
  },
  {
   "cell_type": "code",
   "execution_count": 67,
   "metadata": {},
   "outputs": [
    {
     "output_type": "execute_result",
     "data": {
      "text/plain": [
       "2.6712565327315225"
      ]
     },
     "metadata": {},
     "execution_count": 67
    }
   ],
   "source": [
    "oldCalculator('Jupiter',1000000000)"
   ]
  },
  {
   "cell_type": "code",
   "execution_count": null,
   "metadata": {},
   "outputs": [],
   "source": []
  }
 ]
}