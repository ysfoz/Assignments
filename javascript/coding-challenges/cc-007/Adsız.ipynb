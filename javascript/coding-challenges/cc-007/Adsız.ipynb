{
 "metadata": {
  "language_info": {
   "codemirror_mode": {
    "name": "ipython",
    "version": 3
   },
   "file_extension": ".py",
   "mimetype": "text/x-python",
   "name": "python",
   "nbconvert_exporter": "python",
   "pygments_lexer": "ipython3",
   "version": 3
  },
  "orig_nbformat": 2
 },
 "nbformat": 4,
 "nbformat_minor": 2,
 "cells": [
  {
   "cell_type": "code",
   "execution_count": null,
   "metadata": {},
   "outputs": [],
   "source": [
    "planets ={'Mercury':0.2408467 ,\n",
    "'Venus':0.61519726 ,\n",
    "'Earth':31557600 ,\n",
    "'Mars':1.8808158 ,\n",
    "'Jupiter':11.862615 ,\n",
    "'Saturn': 29.447498, \n",
    "'Uranus':84.016846, \n",
    "'Neptune': 164.79132 }\n"
   ]
  },
  {
   "cell_type": "code",
   "execution_count": null,
   "metadata": {},
   "outputs": [],
   "source": [
    "def oldCalculator(planet,value):\n",
    "    old = 0\n",
    "    for i,j in planets.items():\n",
    "        if planet == 'Earth':\n",
    "            old = value / 31557600\n",
    "            return round(old,2)\n",
    "        else:\n",
    "            if  planet == i:\n",
    "                old = value / (j * 31557600)\n",
    "                return round(old,2)"
   ]
  },
  {
   "cell_type": "code",
   "execution_count": null,
   "metadata": {},
   "outputs": [],
   "source": [
    "oldCalculator('Earth',1000000000)"
   ]
  }
 ]
}